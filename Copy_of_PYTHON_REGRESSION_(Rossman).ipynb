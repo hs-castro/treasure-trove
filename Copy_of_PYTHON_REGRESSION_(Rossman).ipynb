{
  "nbformat": 4,
  "nbformat_minor": 0,
  "metadata": {
    "kernelspec": {
      "display_name": "Python 3",
      "language": "python",
      "name": "python3"
    },
    "language_info": {
      "codemirror_mode": {
        "name": "ipython",
        "version": 3
      },
      "file_extension": ".py",
      "mimetype": "text/x-python",
      "name": "python",
      "nbconvert_exporter": "python",
      "pygments_lexer": "ipython3",
      "version": "3.7.3"
    },
    "colab": {
      "name": "Copy of PYTHON REGRESSION (Rossman).ipynb",
      "provenance": [],
      "collapsed_sections": []
    }
  },
  "cells": [
    {
      "cell_type": "markdown",
      "metadata": {
        "id": "dH8qjht0thVV",
        "colab_type": "text"
      },
      "source": [
        "# Rossman Sales Prediction\n",
        "\n",
        "**This analysis seeks to use linear regression to predict sales at Rossman stores across Germany.**\n",
        "\n",
        "Currently, Rossmann store managers are tasked with predicting their daily sales for up to six weeks in advance.  (Store sales are influenced by many factors, including promotions, competition, school and state holidays, seasonality, and locality.)  With thousands of individual managers predicting sales based on their unique circumstances, the accuracy of results can be quite varied.  Reliable sales forecasts enable store managers to create effective staff schedules that increase productivity and motivation.  By helping Rossmann create a robust prediction model, we can help store managers stay focused on what’s most important to them: their customers and their teams!"
      ]
    },
    {
      "cell_type": "code",
      "metadata": {
        "id": "ik9XiAMm32rb",
        "colab_type": "code",
        "colab": {
          "base_uri": "https://localhost:8080/",
          "height": 332
        },
        "outputId": "8ccc4b20-df9d-4306-d9af-1748ebe288f3"
      },
      "source": [
        "!pip install ipython-sql\n"
      ],
      "execution_count": 1,
      "outputs": [
        {
          "output_type": "stream",
          "text": [
            "Requirement already satisfied: ipython-sql in /usr/local/lib/python3.6/dist-packages (0.3.9)\n",
            "Requirement already satisfied: prettytable in /usr/local/lib/python3.6/dist-packages (from ipython-sql) (0.7.2)\n",
            "Requirement already satisfied: ipython>=1.0 in /usr/local/lib/python3.6/dist-packages (from ipython-sql) (5.5.0)\n",
            "Requirement already satisfied: ipython-genutils>=0.1.0 in /usr/local/lib/python3.6/dist-packages (from ipython-sql) (0.2.0)\n",
            "Requirement already satisfied: sqlparse in /usr/local/lib/python3.6/dist-packages (from ipython-sql) (0.3.0)\n",
            "Requirement already satisfied: six in /usr/local/lib/python3.6/dist-packages (from ipython-sql) (1.12.0)\n",
            "Requirement already satisfied: sqlalchemy>=0.6.7 in /usr/local/lib/python3.6/dist-packages (from ipython-sql) (1.3.11)\n",
            "Requirement already satisfied: pygments in /usr/local/lib/python3.6/dist-packages (from ipython>=1.0->ipython-sql) (2.1.3)\n",
            "Requirement already satisfied: pexpect; sys_platform != \"win32\" in /usr/local/lib/python3.6/dist-packages (from ipython>=1.0->ipython-sql) (4.7.0)\n",
            "Requirement already satisfied: simplegeneric>0.8 in /usr/local/lib/python3.6/dist-packages (from ipython>=1.0->ipython-sql) (0.8.1)\n",
            "Requirement already satisfied: pickleshare in /usr/local/lib/python3.6/dist-packages (from ipython>=1.0->ipython-sql) (0.7.5)\n",
            "Requirement already satisfied: setuptools>=18.5 in /usr/local/lib/python3.6/dist-packages (from ipython>=1.0->ipython-sql) (41.6.0)\n",
            "Requirement already satisfied: decorator in /usr/local/lib/python3.6/dist-packages (from ipython>=1.0->ipython-sql) (4.4.1)\n",
            "Requirement already satisfied: prompt-toolkit<2.0.0,>=1.0.4 in /usr/local/lib/python3.6/dist-packages (from ipython>=1.0->ipython-sql) (1.0.18)\n",
            "Requirement already satisfied: traitlets>=4.2 in /usr/local/lib/python3.6/dist-packages (from ipython>=1.0->ipython-sql) (4.3.3)\n",
            "Requirement already satisfied: ptyprocess>=0.5 in /usr/local/lib/python3.6/dist-packages (from pexpect; sys_platform != \"win32\"->ipython>=1.0->ipython-sql) (0.6.0)\n",
            "Requirement already satisfied: wcwidth in /usr/local/lib/python3.6/dist-packages (from prompt-toolkit<2.0.0,>=1.0.4->ipython>=1.0->ipython-sql) (0.1.7)\n"
          ],
          "name": "stdout"
        }
      ]
    },
    {
      "cell_type": "code",
      "metadata": {
        "id": "26aylWEi4B6k",
        "colab_type": "code",
        "colab": {
          "base_uri": "https://localhost:8080/",
          "height": 52
        },
        "outputId": "694a8fd5-7a00-485a-f174-676cffe8489b"
      },
      "source": [
        "%load_ext sql\t"
      ],
      "execution_count": 4,
      "outputs": [
        {
          "output_type": "stream",
          "text": [
            "The sql extension is already loaded. To reload it, use:\n",
            "  %reload_ext sql\n"
          ],
          "name": "stdout"
        }
      ]
    },
    {
      "cell_type": "code",
      "metadata": {
        "id": "KEV3lZCrw46R",
        "colab_type": "code",
        "colab": {}
      },
      "source": [
        "# Load the appropriate Python libraries.\n",
        "import pandas as pd\n",
        "import seaborn as sns\n",
        "sns.set(style=\"darkgrid\")\n",
        "from sklearn.model_selection import train_test_split\n",
        "from sklearn.linear_model import LinearRegression\n",
        "from sklearn import metrics"
      ],
      "execution_count": 0,
      "outputs": []
    },
    {
      "cell_type": "code",
      "metadata": {
        "id": "MoLHXg-U41vT",
        "colab_type": "code",
        "colab": {
          "base_uri": "https://localhost:8080/",
          "height": 35
        },
        "outputId": "1afb27dc-7371-4988-81a2-7c4a567dfc55"
      },
      "source": [
        "%sql sqlite://"
      ],
      "execution_count": 5,
      "outputs": [
        {
          "output_type": "execute_result",
          "data": {
            "text/plain": [
              "'Connected: @None'"
            ]
          },
          "metadata": {
            "tags": []
          },
          "execution_count": 5
        }
      ]
    },
    {
      "cell_type": "code",
      "metadata": {
        "id": "fW-tBcpb46eA",
        "colab_type": "code",
        "colab": {
          "base_uri": "https://localhost:8080/",
          "height": 104
        },
        "outputId": "25cc574f-4cb8-4bd5-b2a6-9def579ecde8"
      },
      "source": [
        "%%sql   \n",
        "CREATE TABLE EMPLOYEE(firstname varchar(50),lastname varchar(50));  \n",
        "INSERT INTO EMPLOYEE VALUES('Tom','Mitchell');  \n",
        "INSERT INTO EMPLOYEE VALUES('Jack','Ryan');"
      ],
      "execution_count": 6,
      "outputs": [
        {
          "output_type": "stream",
          "text": [
            " * sqlite://\n",
            "Done.\n",
            "1 rows affected.\n",
            "1 rows affected.\n"
          ],
          "name": "stdout"
        },
        {
          "output_type": "execute_result",
          "data": {
            "text/plain": [
              "[]"
            ]
          },
          "metadata": {
            "tags": []
          },
          "execution_count": 6
        }
      ]
    },
    {
      "cell_type": "code",
      "metadata": {
        "id": "3dl8RMW45AZN",
        "colab_type": "code",
        "colab": {
          "base_uri": "https://localhost:8080/",
          "height": 95
        },
        "outputId": "22f6b176-44b8-482b-d4b7-6d8ea455fce2"
      },
      "source": [
        "%sql SELECT * from EMPLOYEE where firstname = \"Tom\";  "
      ],
      "execution_count": 11,
      "outputs": [
        {
          "output_type": "stream",
          "text": [
            " * sqlite://\n",
            "Done.\n"
          ],
          "name": "stdout"
        },
        {
          "output_type": "execute_result",
          "data": {
            "text/html": [
              "<table>\n",
              "    <tr>\n",
              "        <th>firstname</th>\n",
              "        <th>lastname</th>\n",
              "    </tr>\n",
              "    <tr>\n",
              "        <td>Tom</td>\n",
              "        <td>Mitchell</td>\n",
              "    </tr>\n",
              "</table>"
            ],
            "text/plain": [
              "[('Tom', 'Mitchell')]"
            ]
          },
          "metadata": {
            "tags": []
          },
          "execution_count": 11
        }
      ]
    },
    {
      "cell_type": "code",
      "metadata": {
        "id": "IIulzqcs5J9y",
        "colab_type": "code",
        "colab": {
          "base_uri": "https://localhost:8080/",
          "height": 87
        },
        "outputId": "8b57587e-439d-46db-affa-f0abe53f7db1"
      },
      "source": [
        "%sql select * from Crops"
      ],
      "execution_count": 9,
      "outputs": [
        {
          "output_type": "stream",
          "text": [
            " * sqlite://\n",
            "(sqlite3.OperationalError) no such table: Crops\n",
            "[SQL: select * from Crops]\n",
            "(Background on this error at: http://sqlalche.me/e/e3q8)\n"
          ],
          "name": "stdout"
        }
      ]
    },
    {
      "cell_type": "code",
      "metadata": {
        "id": "DazYstq0w46U",
        "colab_type": "code",
        "colab": {}
      },
      "source": [
        "# Read the CSV file with training data.\n",
        "url = 'http://bit.ly/rossman_train'\n",
        "df_train = pd.read_csv(url)"
      ],
      "execution_count": 0,
      "outputs": []
    },
    {
      "cell_type": "markdown",
      "metadata": {
        "id": "Xm_L12Wltq6l",
        "colab_type": "text"
      },
      "source": [
        "### DATA EXPLORATION\n",
        "\n",
        "To begin, we will explore the structure of the training data and resolve missing values, if any."
      ]
    },
    {
      "cell_type": "code",
      "metadata": {
        "id": "Re3rQ00hw46X",
        "colab_type": "code",
        "outputId": "592ce3f8-a241-4c96-c08b-991e19048067",
        "colab": {
          "base_uri": "https://localhost:8080/",
          "height": 35
        }
      },
      "source": [
        "# Show the dimensions (rows and columns) of the training data.\n",
        "df_train.shape"
      ],
      "execution_count": 0,
      "outputs": [
        {
          "output_type": "execute_result",
          "data": {
            "text/plain": [
              "(508604, 10)"
            ]
          },
          "metadata": {
            "tags": []
          },
          "execution_count": 3
        }
      ]
    },
    {
      "cell_type": "code",
      "metadata": {
        "id": "qNYj5Ru3w46a",
        "colab_type": "code",
        "outputId": "1ea33898-5042-4cb2-c2ed-634a356384eb",
        "colab": {
          "base_uri": "https://localhost:8080/",
          "height": 355
        }
      },
      "source": [
        "# Preview the first few records in the training data.\n",
        "df_train.head(10)"
      ],
      "execution_count": 0,
      "outputs": [
        {
          "output_type": "execute_result",
          "data": {
            "text/html": [
              "<div>\n",
              "<style scoped>\n",
              "    .dataframe tbody tr th:only-of-type {\n",
              "        vertical-align: middle;\n",
              "    }\n",
              "\n",
              "    .dataframe tbody tr th {\n",
              "        vertical-align: top;\n",
              "    }\n",
              "\n",
              "    .dataframe thead th {\n",
              "        text-align: right;\n",
              "    }\n",
              "</style>\n",
              "<table border=\"1\" class=\"dataframe\">\n",
              "  <thead>\n",
              "    <tr style=\"text-align: right;\">\n",
              "      <th></th>\n",
              "      <th>Store</th>\n",
              "      <th>DayOfWeek</th>\n",
              "      <th>Date</th>\n",
              "      <th>Sales</th>\n",
              "      <th>Customers</th>\n",
              "      <th>Open</th>\n",
              "      <th>Promo</th>\n",
              "      <th>StoreType</th>\n",
              "      <th>Assortment</th>\n",
              "      <th>CompetitionDistance</th>\n",
              "    </tr>\n",
              "  </thead>\n",
              "  <tbody>\n",
              "    <tr>\n",
              "      <th>0</th>\n",
              "      <td>539</td>\n",
              "      <td>5</td>\n",
              "      <td>2013-07-05</td>\n",
              "      <td>11498</td>\n",
              "      <td>1168</td>\n",
              "      <td>1</td>\n",
              "      <td>1</td>\n",
              "      <td>a</td>\n",
              "      <td>a</td>\n",
              "      <td>770.0</td>\n",
              "    </tr>\n",
              "    <tr>\n",
              "      <th>1</th>\n",
              "      <td>720</td>\n",
              "      <td>1</td>\n",
              "      <td>2013-05-13</td>\n",
              "      <td>8097</td>\n",
              "      <td>822</td>\n",
              "      <td>1</td>\n",
              "      <td>1</td>\n",
              "      <td>a</td>\n",
              "      <td>c</td>\n",
              "      <td>15320.0</td>\n",
              "    </tr>\n",
              "    <tr>\n",
              "      <th>2</th>\n",
              "      <td>936</td>\n",
              "      <td>7</td>\n",
              "      <td>2014-03-16</td>\n",
              "      <td>0</td>\n",
              "      <td>0</td>\n",
              "      <td>0</td>\n",
              "      <td>0</td>\n",
              "      <td>a</td>\n",
              "      <td>a</td>\n",
              "      <td>580.0</td>\n",
              "    </tr>\n",
              "    <tr>\n",
              "      <th>3</th>\n",
              "      <td>157</td>\n",
              "      <td>6</td>\n",
              "      <td>2013-11-09</td>\n",
              "      <td>6906</td>\n",
              "      <td>768</td>\n",
              "      <td>1</td>\n",
              "      <td>0</td>\n",
              "      <td>a</td>\n",
              "      <td>c</td>\n",
              "      <td>2950.0</td>\n",
              "    </tr>\n",
              "    <tr>\n",
              "      <th>4</th>\n",
              "      <td>665</td>\n",
              "      <td>1</td>\n",
              "      <td>2013-07-22</td>\n",
              "      <td>6505</td>\n",
              "      <td>1206</td>\n",
              "      <td>1</td>\n",
              "      <td>0</td>\n",
              "      <td>a</td>\n",
              "      <td>a</td>\n",
              "      <td>90.0</td>\n",
              "    </tr>\n",
              "    <tr>\n",
              "      <th>5</th>\n",
              "      <td>623</td>\n",
              "      <td>2</td>\n",
              "      <td>2014-11-18</td>\n",
              "      <td>6054</td>\n",
              "      <td>757</td>\n",
              "      <td>1</td>\n",
              "      <td>0</td>\n",
              "      <td>a</td>\n",
              "      <td>a</td>\n",
              "      <td>4080.0</td>\n",
              "    </tr>\n",
              "    <tr>\n",
              "      <th>6</th>\n",
              "      <td>225</td>\n",
              "      <td>1</td>\n",
              "      <td>2014-01-27</td>\n",
              "      <td>3936</td>\n",
              "      <td>475</td>\n",
              "      <td>1</td>\n",
              "      <td>0</td>\n",
              "      <td>d</td>\n",
              "      <td>a</td>\n",
              "      <td>10180.0</td>\n",
              "    </tr>\n",
              "    <tr>\n",
              "      <th>7</th>\n",
              "      <td>494</td>\n",
              "      <td>1</td>\n",
              "      <td>2014-12-29</td>\n",
              "      <td>8281</td>\n",
              "      <td>1037</td>\n",
              "      <td>1</td>\n",
              "      <td>0</td>\n",
              "      <td>b</td>\n",
              "      <td>a</td>\n",
              "      <td>1260.0</td>\n",
              "    </tr>\n",
              "    <tr>\n",
              "      <th>8</th>\n",
              "      <td>317</td>\n",
              "      <td>3</td>\n",
              "      <td>2013-11-20</td>\n",
              "      <td>4905</td>\n",
              "      <td>507</td>\n",
              "      <td>1</td>\n",
              "      <td>1</td>\n",
              "      <td>d</td>\n",
              "      <td>a</td>\n",
              "      <td>3140.0</td>\n",
              "    </tr>\n",
              "    <tr>\n",
              "      <th>9</th>\n",
              "      <td>477</td>\n",
              "      <td>4</td>\n",
              "      <td>2014-01-16</td>\n",
              "      <td>5098</td>\n",
              "      <td>405</td>\n",
              "      <td>1</td>\n",
              "      <td>0</td>\n",
              "      <td>d</td>\n",
              "      <td>a</td>\n",
              "      <td>770.0</td>\n",
              "    </tr>\n",
              "  </tbody>\n",
              "</table>\n",
              "</div>"
            ],
            "text/plain": [
              "   Store  DayOfWeek        Date  ...  StoreType  Assortment  CompetitionDistance\n",
              "0    539          5  2013-07-05  ...          a           a                770.0\n",
              "1    720          1  2013-05-13  ...          a           c              15320.0\n",
              "2    936          7  2014-03-16  ...          a           a                580.0\n",
              "3    157          6  2013-11-09  ...          a           c               2950.0\n",
              "4    665          1  2013-07-22  ...          a           a                 90.0\n",
              "5    623          2  2014-11-18  ...          a           a               4080.0\n",
              "6    225          1  2014-01-27  ...          d           a              10180.0\n",
              "7    494          1  2014-12-29  ...          b           a               1260.0\n",
              "8    317          3  2013-11-20  ...          d           a               3140.0\n",
              "9    477          4  2014-01-16  ...          d           a                770.0\n",
              "\n",
              "[10 rows x 10 columns]"
            ]
          },
          "metadata": {
            "tags": []
          },
          "execution_count": 4
        }
      ]
    },
    {
      "cell_type": "code",
      "metadata": {
        "id": "XraHiRtdw46c",
        "colab_type": "code",
        "outputId": "edd4b9ff-a2ac-47ed-f12a-fe032ddad747",
        "colab": {
          "base_uri": "https://localhost:8080/",
          "height": 208
        }
      },
      "source": [
        "# List all columns and their data types.  (Use .columns or .dtypes.)\n",
        "df_train.dtypes"
      ],
      "execution_count": 0,
      "outputs": [
        {
          "output_type": "execute_result",
          "data": {
            "text/plain": [
              "Store                    int64\n",
              "DayOfWeek                int64\n",
              "Date                    object\n",
              "Sales                    int64\n",
              "Customers                int64\n",
              "Open                     int64\n",
              "Promo                    int64\n",
              "StoreType               object\n",
              "Assortment              object\n",
              "CompetitionDistance    float64\n",
              "dtype: object"
            ]
          },
          "metadata": {
            "tags": []
          },
          "execution_count": 5
        }
      ]
    },
    {
      "cell_type": "code",
      "metadata": {
        "id": "co8-qMNdw46e",
        "colab_type": "code",
        "outputId": "8ac32d11-69f3-49b6-c041-38c3bafd1d8e",
        "colab": {
          "base_uri": "https://localhost:8080/",
          "height": 294
        }
      },
      "source": [
        "# Display summary stats for the numeric columns in the data frame.\n",
        "df_train.describe()"
      ],
      "execution_count": 0,
      "outputs": [
        {
          "output_type": "execute_result",
          "data": {
            "text/html": [
              "<div>\n",
              "<style scoped>\n",
              "    .dataframe tbody tr th:only-of-type {\n",
              "        vertical-align: middle;\n",
              "    }\n",
              "\n",
              "    .dataframe tbody tr th {\n",
              "        vertical-align: top;\n",
              "    }\n",
              "\n",
              "    .dataframe thead th {\n",
              "        text-align: right;\n",
              "    }\n",
              "</style>\n",
              "<table border=\"1\" class=\"dataframe\">\n",
              "  <thead>\n",
              "    <tr style=\"text-align: right;\">\n",
              "      <th></th>\n",
              "      <th>Store</th>\n",
              "      <th>DayOfWeek</th>\n",
              "      <th>Sales</th>\n",
              "      <th>Customers</th>\n",
              "      <th>Open</th>\n",
              "      <th>Promo</th>\n",
              "      <th>CompetitionDistance</th>\n",
              "    </tr>\n",
              "  </thead>\n",
              "  <tbody>\n",
              "    <tr>\n",
              "      <th>count</th>\n",
              "      <td>508604.000000</td>\n",
              "      <td>508604.000000</td>\n",
              "      <td>508604.000000</td>\n",
              "      <td>508604.000000</td>\n",
              "      <td>508604.000000</td>\n",
              "      <td>508604.000000</td>\n",
              "      <td>507301.000000</td>\n",
              "    </tr>\n",
              "    <tr>\n",
              "      <th>mean</th>\n",
              "      <td>558.596423</td>\n",
              "      <td>3.998142</td>\n",
              "      <td>5769.155258</td>\n",
              "      <td>632.638469</td>\n",
              "      <td>0.829899</td>\n",
              "      <td>0.381240</td>\n",
              "      <td>5429.155708</td>\n",
              "    </tr>\n",
              "    <tr>\n",
              "      <th>std</th>\n",
              "      <td>321.803180</td>\n",
              "      <td>1.996213</td>\n",
              "      <td>3850.229142</td>\n",
              "      <td>464.498889</td>\n",
              "      <td>0.375722</td>\n",
              "      <td>0.485692</td>\n",
              "      <td>7705.835618</td>\n",
              "    </tr>\n",
              "    <tr>\n",
              "      <th>min</th>\n",
              "      <td>1.000000</td>\n",
              "      <td>1.000000</td>\n",
              "      <td>0.000000</td>\n",
              "      <td>0.000000</td>\n",
              "      <td>0.000000</td>\n",
              "      <td>0.000000</td>\n",
              "      <td>20.000000</td>\n",
              "    </tr>\n",
              "    <tr>\n",
              "      <th>25%</th>\n",
              "      <td>281.000000</td>\n",
              "      <td>2.000000</td>\n",
              "      <td>3722.000000</td>\n",
              "      <td>404.000000</td>\n",
              "      <td>1.000000</td>\n",
              "      <td>0.000000</td>\n",
              "      <td>710.000000</td>\n",
              "    </tr>\n",
              "    <tr>\n",
              "      <th>50%</th>\n",
              "      <td>558.000000</td>\n",
              "      <td>4.000000</td>\n",
              "      <td>5742.000000</td>\n",
              "      <td>609.000000</td>\n",
              "      <td>1.000000</td>\n",
              "      <td>0.000000</td>\n",
              "      <td>2330.000000</td>\n",
              "    </tr>\n",
              "    <tr>\n",
              "      <th>75%</th>\n",
              "      <td>838.000000</td>\n",
              "      <td>6.000000</td>\n",
              "      <td>7848.000000</td>\n",
              "      <td>836.000000</td>\n",
              "      <td>1.000000</td>\n",
              "      <td>1.000000</td>\n",
              "      <td>6890.000000</td>\n",
              "    </tr>\n",
              "    <tr>\n",
              "      <th>max</th>\n",
              "      <td>1115.000000</td>\n",
              "      <td>7.000000</td>\n",
              "      <td>38037.000000</td>\n",
              "      <td>7388.000000</td>\n",
              "      <td>1.000000</td>\n",
              "      <td>1.000000</td>\n",
              "      <td>75860.000000</td>\n",
              "    </tr>\n",
              "  </tbody>\n",
              "</table>\n",
              "</div>"
            ],
            "text/plain": [
              "               Store      DayOfWeek  ...          Promo  CompetitionDistance\n",
              "count  508604.000000  508604.000000  ...  508604.000000        507301.000000\n",
              "mean      558.596423       3.998142  ...       0.381240          5429.155708\n",
              "std       321.803180       1.996213  ...       0.485692          7705.835618\n",
              "min         1.000000       1.000000  ...       0.000000            20.000000\n",
              "25%       281.000000       2.000000  ...       0.000000           710.000000\n",
              "50%       558.000000       4.000000  ...       0.000000          2330.000000\n",
              "75%       838.000000       6.000000  ...       1.000000          6890.000000\n",
              "max      1115.000000       7.000000  ...       1.000000         75860.000000\n",
              "\n",
              "[8 rows x 7 columns]"
            ]
          },
          "metadata": {
            "tags": []
          },
          "execution_count": 6
        }
      ]
    },
    {
      "cell_type": "code",
      "metadata": {
        "id": "FTvCtLVvw46i",
        "colab_type": "code",
        "outputId": "d363458f-1013-458e-fe3d-ddf5fbddf10a",
        "colab": {
          "base_uri": "https://localhost:8080/",
          "height": 208
        }
      },
      "source": [
        "# Determine if any there are any missing or null values.\n",
        "df_train.isnull().sum()"
      ],
      "execution_count": 0,
      "outputs": [
        {
          "output_type": "execute_result",
          "data": {
            "text/plain": [
              "Store                     0\n",
              "DayOfWeek                 0\n",
              "Date                      0\n",
              "Sales                     0\n",
              "Customers                 0\n",
              "Open                      0\n",
              "Promo                     0\n",
              "StoreType                 0\n",
              "Assortment                0\n",
              "CompetitionDistance    1303\n",
              "dtype: int64"
            ]
          },
          "metadata": {
            "tags": []
          },
          "execution_count": 7
        }
      ]
    },
    {
      "cell_type": "code",
      "metadata": {
        "id": "79dWHZj_kR0U",
        "colab_type": "code",
        "outputId": "a83265bf-7ff1-420d-9c2c-a0ad12a3ddea",
        "colab": {
          "base_uri": "https://localhost:8080/",
          "height": 208
        }
      },
      "source": [
        "# Drop (remove) rows that have missing values.\n",
        "df_train.dropna(inplace=True)\n",
        "df_train.isnull().sum()"
      ],
      "execution_count": 0,
      "outputs": [
        {
          "output_type": "execute_result",
          "data": {
            "text/plain": [
              "Store                  0\n",
              "DayOfWeek              0\n",
              "Date                   0\n",
              "Sales                  0\n",
              "Customers              0\n",
              "Open                   0\n",
              "Promo                  0\n",
              "StoreType              0\n",
              "Assortment             0\n",
              "CompetitionDistance    0\n",
              "dtype: int64"
            ]
          },
          "metadata": {
            "tags": []
          },
          "execution_count": 8
        }
      ]
    },
    {
      "cell_type": "markdown",
      "metadata": {
        "id": "3hlqNZ8xtwfA",
        "colab_type": "text"
      },
      "source": [
        "### BASIC BUSINESS ANALYSIS\n",
        "\n",
        "Next, we plot the data and seek to answer a few business questions about sales at Rossman stores."
      ]
    },
    {
      "cell_type": "code",
      "metadata": {
        "id": "tT4QA22Mw46k",
        "colab_type": "code",
        "colab": {}
      },
      "source": [
        "# Review our distribution of daily sales.\n",
        "df_train['Sales'].plot.hist(bins=20);"
      ],
      "execution_count": 0,
      "outputs": []
    },
    {
      "cell_type": "code",
      "metadata": {
        "id": "OvGW31mG3C8l",
        "colab_type": "code",
        "colab": {}
      },
      "source": [
        "# Review our distribution of daily customers.\n",
        "df_train['Customers'].plot.hist(bins=20);"
      ],
      "execution_count": 0,
      "outputs": []
    },
    {
      "cell_type": "code",
      "metadata": {
        "id": "-3201idN7OuU",
        "colab_type": "code",
        "colab": {}
      },
      "source": [
        "# Generate a plot to show the relationship between customers and sales.\n",
        "sns.scatterplot(x='Customers',y='Sales',data=df_train);"
      ],
      "execution_count": 0,
      "outputs": []
    },
    {
      "cell_type": "code",
      "metadata": {
        "id": "U41oYw5Ew46m",
        "colab_type": "code",
        "colab": {}
      },
      "source": [
        "# Use a boxplot to review sales by store type.\n",
        "sns.boxplot(x='StoreType', y='Sales', data=df_train);"
      ],
      "execution_count": 0,
      "outputs": []
    },
    {
      "cell_type": "code",
      "metadata": {
        "id": "RleF347Yw46o",
        "colab_type": "code",
        "colab": {}
      },
      "source": [
        "# Use a boxplot to review sales by product assortment.\n",
        "sns.boxplot(x='Assortment', y='Sales', data=df_train);"
      ],
      "execution_count": 0,
      "outputs": []
    },
    {
      "cell_type": "code",
      "metadata": {
        "id": "pVVf9mvvw46q",
        "colab_type": "code",
        "colab": {}
      },
      "source": [
        "# Use a boxplot to review sales by promotion status.\n",
        "sns.boxplot(x='Promo', y='Sales', data=df_train);"
      ],
      "execution_count": 0,
      "outputs": []
    },
    {
      "cell_type": "code",
      "metadata": {
        "id": "fLwcZ_Rn5xtn",
        "colab_type": "code",
        "colab": {}
      },
      "source": [
        "# Use a violinplot to review sales by promotion status.\n",
        "sns.violinplot(x='Promo', y='Sales', data=df_train);"
      ],
      "execution_count": 0,
      "outputs": []
    },
    {
      "cell_type": "code",
      "metadata": {
        "id": "f5ikMmF0_RY2",
        "colab_type": "code",
        "colab": {}
      },
      "source": [
        "# Create a new data frame that only include days when stores are open.\n",
        "df_train_open = df_train[df_train['Open'] > 0]\n",
        "df_train_open.head(10)"
      ],
      "execution_count": 0,
      "outputs": []
    },
    {
      "cell_type": "code",
      "metadata": {
        "id": "e6ovQYchCdYb",
        "colab_type": "code",
        "colab": {}
      },
      "source": [
        "# Re-run the boxplot to show sales by promotion status using filtered data.\n",
        "sns.boxplot(x='Promo', y='Sales', data=df_train_open);"
      ],
      "execution_count": 0,
      "outputs": []
    },
    {
      "cell_type": "code",
      "metadata": {
        "id": "pWGhXAbJ7y4T",
        "colab_type": "code",
        "colab": {}
      },
      "source": [
        "# Use a boxplot to show sales by store type and promotion.\n",
        "sns.catplot(\"StoreType\", \"Sales\", \"Promo\",\n",
        "               data=df_train_open, kind=\"box\");"
      ],
      "execution_count": 0,
      "outputs": []
    },
    {
      "cell_type": "markdown",
      "metadata": {
        "id": "3ezs3ochAqhh",
        "colab_type": "text"
      },
      "source": [
        "### MODEL BUILDING (Linear Regression)\n",
        "\n",
        "Finally, we will build a linear regression model to predict sales at various Rossman stores."
      ]
    },
    {
      "cell_type": "code",
      "metadata": {
        "id": "_Zo9FLfFw46s",
        "colab_type": "code",
        "colab": {}
      },
      "source": [
        "# Show the correlation between variables.\n",
        "df_train.corr()"
      ],
      "execution_count": 0,
      "outputs": []
    },
    {
      "cell_type": "code",
      "metadata": {
        "id": "gvdpG2R0w46u",
        "colab_type": "code",
        "colab": {}
      },
      "source": [
        "# Sepearate the dependent variable (y) from the independent variables (X).\n",
        "X = df_train[['Open', 'Promo', 'CompetitionDistance']]\n",
        "y = df_train['Sales']"
      ],
      "execution_count": 0,
      "outputs": []
    },
    {
      "cell_type": "code",
      "metadata": {
        "id": "MzWzNX5fJZRW",
        "colab_type": "code",
        "colab": {}
      },
      "source": [
        "# Pull out some of the training data (25%) and create a test dataset.\n",
        "X_train, X_test, y_train, y_test = train_test_split(X, y, test_size=0.25, random_state=0)"
      ],
      "execution_count": 0,
      "outputs": []
    },
    {
      "cell_type": "code",
      "metadata": {
        "id": "pPaiS9Fjw46w",
        "colab_type": "code",
        "colab": {}
      },
      "source": [
        "# Train the prediction model using the training data.\n",
        "model = LinearRegression()\n",
        "model.fit(X_train, y_train)"
      ],
      "execution_count": 0,
      "outputs": []
    },
    {
      "cell_type": "code",
      "metadata": {
        "id": "j2knpeHGw46y",
        "colab_type": "code",
        "colab": {}
      },
      "source": [
        "# Display the y-intercept and coefficients of our regression model.\n",
        "# y = b + mx\n",
        "print(model.intercept_)\n",
        "print(model.coef_)"
      ],
      "execution_count": 0,
      "outputs": []
    },
    {
      "cell_type": "code",
      "metadata": {
        "id": "h25vy_euH4bP",
        "colab_type": "code",
        "colab": {}
      },
      "source": [
        "# Predict sales for a specific scenario.\n",
        "new_X = [[1, 1, 1000]] # (open, promo, competition distance)\n",
        "model.predict(new_X)"
      ],
      "execution_count": 0,
      "outputs": []
    },
    {
      "cell_type": "code",
      "metadata": {
        "id": "T6UvV2z-KlGW",
        "colab_type": "code",
        "colab": {}
      },
      "source": [
        "# Make predictions in the test data.\n",
        "y_pred = model.predict(X_test)"
      ],
      "execution_count": 0,
      "outputs": []
    },
    {
      "cell_type": "code",
      "metadata": {
        "id": "77HTfhzEMXP6",
        "colab_type": "code",
        "colab": {}
      },
      "source": [
        "# Evaluate the performance of the model (r-squared).\n",
        "metrics.r2_score(y_test, y_pred)"
      ],
      "execution_count": 0,
      "outputs": []
    },
    {
      "cell_type": "code",
      "metadata": {
        "id": "Zv7p50gbLa3a",
        "colab_type": "code",
        "colab": {}
      },
      "source": [
        "# Compare the actual vs predicted value in the test data.\n",
        "df_compare = pd.DataFrame({'Actual': y_test, 'Predicted': y_pred})\n",
        "df_compare.head(10)"
      ],
      "execution_count": 0,
      "outputs": []
    }
  ]
}